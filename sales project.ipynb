{
 "cells": [
  {
   "cell_type": "code",
   "execution_count": 41,
   "metadata": {
    "ExecuteTime": {
     "end_time": "2021-08-25T02:13:40.962680Z",
     "start_time": "2021-08-25T02:13:40.955932Z"
    }
   },
   "outputs": [],
   "source": [
    "import pandas as pd\n",
    "import os \n",
    "import matplotlib.pyplot as plt"
   ]
  },
  {
   "cell_type": "code",
   "execution_count": 42,
   "metadata": {
    "ExecuteTime": {
     "end_time": "2021-08-25T02:13:41.537720Z",
     "start_time": "2021-08-25T02:13:41.476872Z"
    }
   },
   "outputs": [],
   "source": [
    "df=pd.read_csv(r'C:\\Users\\ahmed hatem\\Downloads\\Pandas-Data-Science-Tasks-master\\Pandas-Data-Science-Tasks-master\\SalesAnalysis\\Sales_Data\\Sales_April_2019.csv')"
   ]
  },
  {
   "cell_type": "code",
   "execution_count": 43,
   "metadata": {
    "ExecuteTime": {
     "end_time": "2021-08-25T02:13:41.968530Z",
     "start_time": "2021-08-25T02:13:41.953571Z"
    }
   },
   "outputs": [
    {
     "data": {
      "text/plain": [
       "['Sales_April_2019.csv',\n",
       " 'Sales_August_2019.csv',\n",
       " 'Sales_December_2019.csv',\n",
       " 'Sales_February_2019.csv',\n",
       " 'Sales_January_2019.csv',\n",
       " 'Sales_July_2019.csv',\n",
       " 'Sales_June_2019.csv',\n",
       " 'Sales_March_2019.csv',\n",
       " 'Sales_May_2019.csv',\n",
       " 'Sales_November_2019.csv',\n",
       " 'Sales_October_2019.csv',\n",
       " 'Sales_September_2019.csv']"
      ]
     },
     "execution_count": 43,
     "metadata": {},
     "output_type": "execute_result"
    }
   ],
   "source": [
    "sales=df\n",
    "files=os.listdir(r'C:\\Users\\ahmed hatem\\Downloads\\Pandas-Data-Science-Tasks-master\\Pandas-Data-Science-Tasks-master\\SalesAnalysis\\Sales_Data')\n",
    "files"
   ]
  },
  {
   "cell_type": "code",
   "execution_count": 44,
   "metadata": {
    "ExecuteTime": {
     "end_time": "2021-08-25T02:13:42.389016Z",
     "start_time": "2021-08-25T02:13:42.382423Z"
    }
   },
   "outputs": [],
   "source": [
    "os.chdir(r'C:\\Users\\ahmed hatem\\Downloads\\Pandas-Data-Science-Tasks-master\\Pandas-Data-Science-Tasks-master\\SalesAnalysis\\Sales_Data')"
   ]
  },
  {
   "cell_type": "code",
   "execution_count": 45,
   "metadata": {
    "ExecuteTime": {
     "end_time": "2021-08-25T02:13:43.634082Z",
     "start_time": "2021-08-25T02:13:43.082559Z"
    }
   },
   "outputs": [],
   "source": [
    "all_files=pd.DataFrame()\n",
    "for file in files:\n",
    "    df=pd.read_csv(file)\n",
    "    all_files=pd.concat([all_files,df])\n",
    "    "
   ]
  },
  {
   "cell_type": "code",
   "execution_count": 46,
   "metadata": {
    "ExecuteTime": {
     "end_time": "2021-08-25T02:13:43.711867Z",
     "start_time": "2021-08-25T02:13:43.691922Z"
    }
   },
   "outputs": [
    {
     "data": {
      "text/html": [
       "<div>\n",
       "<style scoped>\n",
       "    .dataframe tbody tr th:only-of-type {\n",
       "        vertical-align: middle;\n",
       "    }\n",
       "\n",
       "    .dataframe tbody tr th {\n",
       "        vertical-align: top;\n",
       "    }\n",
       "\n",
       "    .dataframe thead th {\n",
       "        text-align: right;\n",
       "    }\n",
       "</style>\n",
       "<table border=\"1\" class=\"dataframe\">\n",
       "  <thead>\n",
       "    <tr style=\"text-align: right;\">\n",
       "      <th></th>\n",
       "      <th>Order ID</th>\n",
       "      <th>Product</th>\n",
       "      <th>Quantity Ordered</th>\n",
       "      <th>Price Each</th>\n",
       "      <th>Order Date</th>\n",
       "      <th>Purchase Address</th>\n",
       "    </tr>\n",
       "  </thead>\n",
       "  <tbody>\n",
       "    <tr>\n",
       "      <th>0</th>\n",
       "      <td>176558</td>\n",
       "      <td>USB-C Charging Cable</td>\n",
       "      <td>2</td>\n",
       "      <td>11.95</td>\n",
       "      <td>04/19/19 08:46</td>\n",
       "      <td>917 1st St, Dallas, TX 75001</td>\n",
       "    </tr>\n",
       "    <tr>\n",
       "      <th>1</th>\n",
       "      <td>NaN</td>\n",
       "      <td>NaN</td>\n",
       "      <td>NaN</td>\n",
       "      <td>NaN</td>\n",
       "      <td>NaN</td>\n",
       "      <td>NaN</td>\n",
       "    </tr>\n",
       "    <tr>\n",
       "      <th>2</th>\n",
       "      <td>176559</td>\n",
       "      <td>Bose SoundSport Headphones</td>\n",
       "      <td>1</td>\n",
       "      <td>99.99</td>\n",
       "      <td>04/07/19 22:30</td>\n",
       "      <td>682 Chestnut St, Boston, MA 02215</td>\n",
       "    </tr>\n",
       "    <tr>\n",
       "      <th>3</th>\n",
       "      <td>176560</td>\n",
       "      <td>Google Phone</td>\n",
       "      <td>1</td>\n",
       "      <td>600</td>\n",
       "      <td>04/12/19 14:38</td>\n",
       "      <td>669 Spruce St, Los Angeles, CA 90001</td>\n",
       "    </tr>\n",
       "    <tr>\n",
       "      <th>4</th>\n",
       "      <td>176560</td>\n",
       "      <td>Wired Headphones</td>\n",
       "      <td>1</td>\n",
       "      <td>11.99</td>\n",
       "      <td>04/12/19 14:38</td>\n",
       "      <td>669 Spruce St, Los Angeles, CA 90001</td>\n",
       "    </tr>\n",
       "    <tr>\n",
       "      <th>...</th>\n",
       "      <td>...</td>\n",
       "      <td>...</td>\n",
       "      <td>...</td>\n",
       "      <td>...</td>\n",
       "      <td>...</td>\n",
       "      <td>...</td>\n",
       "    </tr>\n",
       "    <tr>\n",
       "      <th>11681</th>\n",
       "      <td>259353</td>\n",
       "      <td>AAA Batteries (4-pack)</td>\n",
       "      <td>3</td>\n",
       "      <td>2.99</td>\n",
       "      <td>09/17/19 20:56</td>\n",
       "      <td>840 Highland St, Los Angeles, CA 90001</td>\n",
       "    </tr>\n",
       "    <tr>\n",
       "      <th>11682</th>\n",
       "      <td>259354</td>\n",
       "      <td>iPhone</td>\n",
       "      <td>1</td>\n",
       "      <td>700</td>\n",
       "      <td>09/01/19 16:00</td>\n",
       "      <td>216 Dogwood St, San Francisco, CA 94016</td>\n",
       "    </tr>\n",
       "    <tr>\n",
       "      <th>11683</th>\n",
       "      <td>259355</td>\n",
       "      <td>iPhone</td>\n",
       "      <td>1</td>\n",
       "      <td>700</td>\n",
       "      <td>09/23/19 07:39</td>\n",
       "      <td>220 12th St, San Francisco, CA 94016</td>\n",
       "    </tr>\n",
       "    <tr>\n",
       "      <th>11684</th>\n",
       "      <td>259356</td>\n",
       "      <td>34in Ultrawide Monitor</td>\n",
       "      <td>1</td>\n",
       "      <td>379.99</td>\n",
       "      <td>09/19/19 17:30</td>\n",
       "      <td>511 Forest St, San Francisco, CA 94016</td>\n",
       "    </tr>\n",
       "    <tr>\n",
       "      <th>11685</th>\n",
       "      <td>259357</td>\n",
       "      <td>USB-C Charging Cable</td>\n",
       "      <td>1</td>\n",
       "      <td>11.95</td>\n",
       "      <td>09/30/19 00:18</td>\n",
       "      <td>250 Meadow St, San Francisco, CA 94016</td>\n",
       "    </tr>\n",
       "  </tbody>\n",
       "</table>\n",
       "<p>186850 rows × 6 columns</p>\n",
       "</div>"
      ],
      "text/plain": [
       "      Order ID                     Product Quantity Ordered Price Each  \\\n",
       "0       176558        USB-C Charging Cable                2      11.95   \n",
       "1          NaN                         NaN              NaN        NaN   \n",
       "2       176559  Bose SoundSport Headphones                1      99.99   \n",
       "3       176560                Google Phone                1        600   \n",
       "4       176560            Wired Headphones                1      11.99   \n",
       "...        ...                         ...              ...        ...   \n",
       "11681   259353      AAA Batteries (4-pack)                3       2.99   \n",
       "11682   259354                      iPhone                1        700   \n",
       "11683   259355                      iPhone                1        700   \n",
       "11684   259356      34in Ultrawide Monitor                1     379.99   \n",
       "11685   259357        USB-C Charging Cable                1      11.95   \n",
       "\n",
       "           Order Date                         Purchase Address  \n",
       "0      04/19/19 08:46             917 1st St, Dallas, TX 75001  \n",
       "1                 NaN                                      NaN  \n",
       "2      04/07/19 22:30        682 Chestnut St, Boston, MA 02215  \n",
       "3      04/12/19 14:38     669 Spruce St, Los Angeles, CA 90001  \n",
       "4      04/12/19 14:38     669 Spruce St, Los Angeles, CA 90001  \n",
       "...               ...                                      ...  \n",
       "11681  09/17/19 20:56   840 Highland St, Los Angeles, CA 90001  \n",
       "11682  09/01/19 16:00  216 Dogwood St, San Francisco, CA 94016  \n",
       "11683  09/23/19 07:39     220 12th St, San Francisco, CA 94016  \n",
       "11684  09/19/19 17:30   511 Forest St, San Francisco, CA 94016  \n",
       "11685  09/30/19 00:18   250 Meadow St, San Francisco, CA 94016  \n",
       "\n",
       "[186850 rows x 6 columns]"
      ]
     },
     "execution_count": 46,
     "metadata": {},
     "output_type": "execute_result"
    }
   ],
   "source": [
    "all_files"
   ]
  },
  {
   "cell_type": "code",
   "execution_count": 47,
   "metadata": {
    "ExecuteTime": {
     "end_time": "2021-08-25T02:13:44.491280Z",
     "start_time": "2021-08-25T02:13:44.420484Z"
    }
   },
   "outputs": [
    {
     "data": {
      "text/html": [
       "<div>\n",
       "<style scoped>\n",
       "    .dataframe tbody tr th:only-of-type {\n",
       "        vertical-align: middle;\n",
       "    }\n",
       "\n",
       "    .dataframe tbody tr th {\n",
       "        vertical-align: top;\n",
       "    }\n",
       "\n",
       "    .dataframe thead th {\n",
       "        text-align: right;\n",
       "    }\n",
       "</style>\n",
       "<table border=\"1\" class=\"dataframe\">\n",
       "  <thead>\n",
       "    <tr style=\"text-align: right;\">\n",
       "      <th></th>\n",
       "      <th>Order ID</th>\n",
       "      <th>Product</th>\n",
       "      <th>Quantity Ordered</th>\n",
       "      <th>Price Each</th>\n",
       "      <th>Order Date</th>\n",
       "      <th>Purchase Address</th>\n",
       "    </tr>\n",
       "  </thead>\n",
       "  <tbody>\n",
       "    <tr>\n",
       "      <th>1</th>\n",
       "      <td>NaN</td>\n",
       "      <td>NaN</td>\n",
       "      <td>NaN</td>\n",
       "      <td>NaN</td>\n",
       "      <td>NaN</td>\n",
       "      <td>NaN</td>\n",
       "    </tr>\n",
       "    <tr>\n",
       "      <th>356</th>\n",
       "      <td>NaN</td>\n",
       "      <td>NaN</td>\n",
       "      <td>NaN</td>\n",
       "      <td>NaN</td>\n",
       "      <td>NaN</td>\n",
       "      <td>NaN</td>\n",
       "    </tr>\n",
       "    <tr>\n",
       "      <th>735</th>\n",
       "      <td>NaN</td>\n",
       "      <td>NaN</td>\n",
       "      <td>NaN</td>\n",
       "      <td>NaN</td>\n",
       "      <td>NaN</td>\n",
       "      <td>NaN</td>\n",
       "    </tr>\n",
       "    <tr>\n",
       "      <th>1433</th>\n",
       "      <td>NaN</td>\n",
       "      <td>NaN</td>\n",
       "      <td>NaN</td>\n",
       "      <td>NaN</td>\n",
       "      <td>NaN</td>\n",
       "      <td>NaN</td>\n",
       "    </tr>\n",
       "    <tr>\n",
       "      <th>1553</th>\n",
       "      <td>NaN</td>\n",
       "      <td>NaN</td>\n",
       "      <td>NaN</td>\n",
       "      <td>NaN</td>\n",
       "      <td>NaN</td>\n",
       "      <td>NaN</td>\n",
       "    </tr>\n",
       "    <tr>\n",
       "      <th>...</th>\n",
       "      <td>...</td>\n",
       "      <td>...</td>\n",
       "      <td>...</td>\n",
       "      <td>...</td>\n",
       "      <td>...</td>\n",
       "      <td>...</td>\n",
       "    </tr>\n",
       "    <tr>\n",
       "      <th>10012</th>\n",
       "      <td>NaN</td>\n",
       "      <td>NaN</td>\n",
       "      <td>NaN</td>\n",
       "      <td>NaN</td>\n",
       "      <td>NaN</td>\n",
       "      <td>NaN</td>\n",
       "    </tr>\n",
       "    <tr>\n",
       "      <th>10274</th>\n",
       "      <td>NaN</td>\n",
       "      <td>NaN</td>\n",
       "      <td>NaN</td>\n",
       "      <td>NaN</td>\n",
       "      <td>NaN</td>\n",
       "      <td>NaN</td>\n",
       "    </tr>\n",
       "    <tr>\n",
       "      <th>10878</th>\n",
       "      <td>NaN</td>\n",
       "      <td>NaN</td>\n",
       "      <td>NaN</td>\n",
       "      <td>NaN</td>\n",
       "      <td>NaN</td>\n",
       "      <td>NaN</td>\n",
       "    </tr>\n",
       "    <tr>\n",
       "      <th>11384</th>\n",
       "      <td>NaN</td>\n",
       "      <td>NaN</td>\n",
       "      <td>NaN</td>\n",
       "      <td>NaN</td>\n",
       "      <td>NaN</td>\n",
       "      <td>NaN</td>\n",
       "    </tr>\n",
       "    <tr>\n",
       "      <th>11662</th>\n",
       "      <td>NaN</td>\n",
       "      <td>NaN</td>\n",
       "      <td>NaN</td>\n",
       "      <td>NaN</td>\n",
       "      <td>NaN</td>\n",
       "      <td>NaN</td>\n",
       "    </tr>\n",
       "  </tbody>\n",
       "</table>\n",
       "<p>545 rows × 6 columns</p>\n",
       "</div>"
      ],
      "text/plain": [
       "      Order ID Product Quantity Ordered Price Each Order Date Purchase Address\n",
       "1          NaN     NaN              NaN        NaN        NaN              NaN\n",
       "356        NaN     NaN              NaN        NaN        NaN              NaN\n",
       "735        NaN     NaN              NaN        NaN        NaN              NaN\n",
       "1433       NaN     NaN              NaN        NaN        NaN              NaN\n",
       "1553       NaN     NaN              NaN        NaN        NaN              NaN\n",
       "...        ...     ...              ...        ...        ...              ...\n",
       "10012      NaN     NaN              NaN        NaN        NaN              NaN\n",
       "10274      NaN     NaN              NaN        NaN        NaN              NaN\n",
       "10878      NaN     NaN              NaN        NaN        NaN              NaN\n",
       "11384      NaN     NaN              NaN        NaN        NaN              NaN\n",
       "11662      NaN     NaN              NaN        NaN        NaN              NaN\n",
       "\n",
       "[545 rows x 6 columns]"
      ]
     },
     "execution_count": 47,
     "metadata": {},
     "output_type": "execute_result"
    }
   ],
   "source": [
    "all_files[all_files.isna().any(axis=1)]"
   ]
  },
  {
   "cell_type": "code",
   "execution_count": 48,
   "metadata": {
    "ExecuteTime": {
     "end_time": "2021-08-25T02:13:44.878245Z",
     "start_time": "2021-08-25T02:13:44.777515Z"
    }
   },
   "outputs": [
    {
     "data": {
      "text/html": [
       "<div>\n",
       "<style scoped>\n",
       "    .dataframe tbody tr th:only-of-type {\n",
       "        vertical-align: middle;\n",
       "    }\n",
       "\n",
       "    .dataframe tbody tr th {\n",
       "        vertical-align: top;\n",
       "    }\n",
       "\n",
       "    .dataframe thead th {\n",
       "        text-align: right;\n",
       "    }\n",
       "</style>\n",
       "<table border=\"1\" class=\"dataframe\">\n",
       "  <thead>\n",
       "    <tr style=\"text-align: right;\">\n",
       "      <th></th>\n",
       "      <th>Order ID</th>\n",
       "      <th>Product</th>\n",
       "      <th>Quantity Ordered</th>\n",
       "      <th>Price Each</th>\n",
       "      <th>Order Date</th>\n",
       "      <th>Purchase Address</th>\n",
       "    </tr>\n",
       "  </thead>\n",
       "  <tbody>\n",
       "    <tr>\n",
       "      <th>0</th>\n",
       "      <td>176558</td>\n",
       "      <td>USB-C Charging Cable</td>\n",
       "      <td>2</td>\n",
       "      <td>11.95</td>\n",
       "      <td>04/19/19 08:46</td>\n",
       "      <td>917 1st St, Dallas, TX 75001</td>\n",
       "    </tr>\n",
       "    <tr>\n",
       "      <th>2</th>\n",
       "      <td>176559</td>\n",
       "      <td>Bose SoundSport Headphones</td>\n",
       "      <td>1</td>\n",
       "      <td>99.99</td>\n",
       "      <td>04/07/19 22:30</td>\n",
       "      <td>682 Chestnut St, Boston, MA 02215</td>\n",
       "    </tr>\n",
       "    <tr>\n",
       "      <th>3</th>\n",
       "      <td>176560</td>\n",
       "      <td>Google Phone</td>\n",
       "      <td>1</td>\n",
       "      <td>600</td>\n",
       "      <td>04/12/19 14:38</td>\n",
       "      <td>669 Spruce St, Los Angeles, CA 90001</td>\n",
       "    </tr>\n",
       "    <tr>\n",
       "      <th>4</th>\n",
       "      <td>176560</td>\n",
       "      <td>Wired Headphones</td>\n",
       "      <td>1</td>\n",
       "      <td>11.99</td>\n",
       "      <td>04/12/19 14:38</td>\n",
       "      <td>669 Spruce St, Los Angeles, CA 90001</td>\n",
       "    </tr>\n",
       "    <tr>\n",
       "      <th>5</th>\n",
       "      <td>176561</td>\n",
       "      <td>Wired Headphones</td>\n",
       "      <td>1</td>\n",
       "      <td>11.99</td>\n",
       "      <td>04/30/19 09:27</td>\n",
       "      <td>333 8th St, Los Angeles, CA 90001</td>\n",
       "    </tr>\n",
       "    <tr>\n",
       "      <th>...</th>\n",
       "      <td>...</td>\n",
       "      <td>...</td>\n",
       "      <td>...</td>\n",
       "      <td>...</td>\n",
       "      <td>...</td>\n",
       "      <td>...</td>\n",
       "    </tr>\n",
       "    <tr>\n",
       "      <th>11681</th>\n",
       "      <td>259353</td>\n",
       "      <td>AAA Batteries (4-pack)</td>\n",
       "      <td>3</td>\n",
       "      <td>2.99</td>\n",
       "      <td>09/17/19 20:56</td>\n",
       "      <td>840 Highland St, Los Angeles, CA 90001</td>\n",
       "    </tr>\n",
       "    <tr>\n",
       "      <th>11682</th>\n",
       "      <td>259354</td>\n",
       "      <td>iPhone</td>\n",
       "      <td>1</td>\n",
       "      <td>700</td>\n",
       "      <td>09/01/19 16:00</td>\n",
       "      <td>216 Dogwood St, San Francisco, CA 94016</td>\n",
       "    </tr>\n",
       "    <tr>\n",
       "      <th>11683</th>\n",
       "      <td>259355</td>\n",
       "      <td>iPhone</td>\n",
       "      <td>1</td>\n",
       "      <td>700</td>\n",
       "      <td>09/23/19 07:39</td>\n",
       "      <td>220 12th St, San Francisco, CA 94016</td>\n",
       "    </tr>\n",
       "    <tr>\n",
       "      <th>11684</th>\n",
       "      <td>259356</td>\n",
       "      <td>34in Ultrawide Monitor</td>\n",
       "      <td>1</td>\n",
       "      <td>379.99</td>\n",
       "      <td>09/19/19 17:30</td>\n",
       "      <td>511 Forest St, San Francisco, CA 94016</td>\n",
       "    </tr>\n",
       "    <tr>\n",
       "      <th>11685</th>\n",
       "      <td>259357</td>\n",
       "      <td>USB-C Charging Cable</td>\n",
       "      <td>1</td>\n",
       "      <td>11.95</td>\n",
       "      <td>09/30/19 00:18</td>\n",
       "      <td>250 Meadow St, San Francisco, CA 94016</td>\n",
       "    </tr>\n",
       "  </tbody>\n",
       "</table>\n",
       "<p>186305 rows × 6 columns</p>\n",
       "</div>"
      ],
      "text/plain": [
       "      Order ID                     Product Quantity Ordered Price Each  \\\n",
       "0       176558        USB-C Charging Cable                2      11.95   \n",
       "2       176559  Bose SoundSport Headphones                1      99.99   \n",
       "3       176560                Google Phone                1        600   \n",
       "4       176560            Wired Headphones                1      11.99   \n",
       "5       176561            Wired Headphones                1      11.99   \n",
       "...        ...                         ...              ...        ...   \n",
       "11681   259353      AAA Batteries (4-pack)                3       2.99   \n",
       "11682   259354                      iPhone                1        700   \n",
       "11683   259355                      iPhone                1        700   \n",
       "11684   259356      34in Ultrawide Monitor                1     379.99   \n",
       "11685   259357        USB-C Charging Cable                1      11.95   \n",
       "\n",
       "           Order Date                         Purchase Address  \n",
       "0      04/19/19 08:46             917 1st St, Dallas, TX 75001  \n",
       "2      04/07/19 22:30        682 Chestnut St, Boston, MA 02215  \n",
       "3      04/12/19 14:38     669 Spruce St, Los Angeles, CA 90001  \n",
       "4      04/12/19 14:38     669 Spruce St, Los Angeles, CA 90001  \n",
       "5      04/30/19 09:27        333 8th St, Los Angeles, CA 90001  \n",
       "...               ...                                      ...  \n",
       "11681  09/17/19 20:56   840 Highland St, Los Angeles, CA 90001  \n",
       "11682  09/01/19 16:00  216 Dogwood St, San Francisco, CA 94016  \n",
       "11683  09/23/19 07:39     220 12th St, San Francisco, CA 94016  \n",
       "11684  09/19/19 17:30   511 Forest St, San Francisco, CA 94016  \n",
       "11685  09/30/19 00:18   250 Meadow St, San Francisco, CA 94016  \n",
       "\n",
       "[186305 rows x 6 columns]"
      ]
     },
     "execution_count": 48,
     "metadata": {},
     "output_type": "execute_result"
    }
   ],
   "source": [
    "all_files=all_files.dropna(how='all')\n",
    "all_files"
   ]
  },
  {
   "cell_type": "markdown",
   "metadata": {},
   "source": [
    "Question 1: What was the best month for sales? How much was earned that month?"
   ]
  },
  {
   "cell_type": "code",
   "execution_count": 49,
   "metadata": {
    "ExecuteTime": {
     "end_time": "2021-08-25T02:13:45.946039Z",
     "start_time": "2021-08-25T02:13:45.858267Z"
    }
   },
   "outputs": [
    {
     "name": "stderr",
     "output_type": "stream",
     "text": [
      "<ipython-input-49-f00db06d909b>:1: SettingWithCopyWarning: \n",
      "A value is trying to be set on a copy of a slice from a DataFrame.\n",
      "Try using .loc[row_indexer,col_indexer] = value instead\n",
      "\n",
      "See the caveats in the documentation: https://pandas.pydata.org/pandas-docs/stable/user_guide/indexing.html#returning-a-view-versus-a-copy\n",
      "  all_files['month']=all_files['Order Date'].str[0:2]\n"
     ]
    }
   ],
   "source": [
    "all_files['month']=all_files['Order Date'].str[0:2]"
   ]
  },
  {
   "cell_type": "code",
   "execution_count": 50,
   "metadata": {
    "ExecuteTime": {
     "end_time": "2021-08-25T02:13:46.799677Z",
     "start_time": "2021-08-25T02:13:46.792694Z"
    }
   },
   "outputs": [],
   "source": [
    "#all_files['month']=all_files['month'].astype(int)\n"
   ]
  },
  {
   "cell_type": "code",
   "execution_count": 51,
   "metadata": {
    "ExecuteTime": {
     "end_time": "2021-08-25T02:13:47.798692Z",
     "start_time": "2021-08-25T02:13:47.728793Z"
    }
   },
   "outputs": [],
   "source": [
    "all_files=all_files[all_files['month']!='Or']"
   ]
  },
  {
   "cell_type": "code",
   "execution_count": 52,
   "metadata": {
    "ExecuteTime": {
     "end_time": "2021-08-25T02:13:48.830421Z",
     "start_time": "2021-08-25T02:13:48.802501Z"
    }
   },
   "outputs": [
    {
     "data": {
      "text/html": [
       "<div>\n",
       "<style scoped>\n",
       "    .dataframe tbody tr th:only-of-type {\n",
       "        vertical-align: middle;\n",
       "    }\n",
       "\n",
       "    .dataframe tbody tr th {\n",
       "        vertical-align: top;\n",
       "    }\n",
       "\n",
       "    .dataframe thead th {\n",
       "        text-align: right;\n",
       "    }\n",
       "</style>\n",
       "<table border=\"1\" class=\"dataframe\">\n",
       "  <thead>\n",
       "    <tr style=\"text-align: right;\">\n",
       "      <th></th>\n",
       "      <th>Order ID</th>\n",
       "      <th>Product</th>\n",
       "      <th>Quantity Ordered</th>\n",
       "      <th>Price Each</th>\n",
       "      <th>Order Date</th>\n",
       "      <th>Purchase Address</th>\n",
       "      <th>month</th>\n",
       "    </tr>\n",
       "  </thead>\n",
       "  <tbody>\n",
       "    <tr>\n",
       "      <th>0</th>\n",
       "      <td>176558</td>\n",
       "      <td>USB-C Charging Cable</td>\n",
       "      <td>2</td>\n",
       "      <td>11.95</td>\n",
       "      <td>04/19/19 08:46</td>\n",
       "      <td>917 1st St, Dallas, TX 75001</td>\n",
       "      <td>04</td>\n",
       "    </tr>\n",
       "    <tr>\n",
       "      <th>2</th>\n",
       "      <td>176559</td>\n",
       "      <td>Bose SoundSport Headphones</td>\n",
       "      <td>1</td>\n",
       "      <td>99.99</td>\n",
       "      <td>04/07/19 22:30</td>\n",
       "      <td>682 Chestnut St, Boston, MA 02215</td>\n",
       "      <td>04</td>\n",
       "    </tr>\n",
       "    <tr>\n",
       "      <th>3</th>\n",
       "      <td>176560</td>\n",
       "      <td>Google Phone</td>\n",
       "      <td>1</td>\n",
       "      <td>600</td>\n",
       "      <td>04/12/19 14:38</td>\n",
       "      <td>669 Spruce St, Los Angeles, CA 90001</td>\n",
       "      <td>04</td>\n",
       "    </tr>\n",
       "    <tr>\n",
       "      <th>4</th>\n",
       "      <td>176560</td>\n",
       "      <td>Wired Headphones</td>\n",
       "      <td>1</td>\n",
       "      <td>11.99</td>\n",
       "      <td>04/12/19 14:38</td>\n",
       "      <td>669 Spruce St, Los Angeles, CA 90001</td>\n",
       "      <td>04</td>\n",
       "    </tr>\n",
       "    <tr>\n",
       "      <th>5</th>\n",
       "      <td>176561</td>\n",
       "      <td>Wired Headphones</td>\n",
       "      <td>1</td>\n",
       "      <td>11.99</td>\n",
       "      <td>04/30/19 09:27</td>\n",
       "      <td>333 8th St, Los Angeles, CA 90001</td>\n",
       "      <td>04</td>\n",
       "    </tr>\n",
       "    <tr>\n",
       "      <th>...</th>\n",
       "      <td>...</td>\n",
       "      <td>...</td>\n",
       "      <td>...</td>\n",
       "      <td>...</td>\n",
       "      <td>...</td>\n",
       "      <td>...</td>\n",
       "      <td>...</td>\n",
       "    </tr>\n",
       "    <tr>\n",
       "      <th>11681</th>\n",
       "      <td>259353</td>\n",
       "      <td>AAA Batteries (4-pack)</td>\n",
       "      <td>3</td>\n",
       "      <td>2.99</td>\n",
       "      <td>09/17/19 20:56</td>\n",
       "      <td>840 Highland St, Los Angeles, CA 90001</td>\n",
       "      <td>09</td>\n",
       "    </tr>\n",
       "    <tr>\n",
       "      <th>11682</th>\n",
       "      <td>259354</td>\n",
       "      <td>iPhone</td>\n",
       "      <td>1</td>\n",
       "      <td>700</td>\n",
       "      <td>09/01/19 16:00</td>\n",
       "      <td>216 Dogwood St, San Francisco, CA 94016</td>\n",
       "      <td>09</td>\n",
       "    </tr>\n",
       "    <tr>\n",
       "      <th>11683</th>\n",
       "      <td>259355</td>\n",
       "      <td>iPhone</td>\n",
       "      <td>1</td>\n",
       "      <td>700</td>\n",
       "      <td>09/23/19 07:39</td>\n",
       "      <td>220 12th St, San Francisco, CA 94016</td>\n",
       "      <td>09</td>\n",
       "    </tr>\n",
       "    <tr>\n",
       "      <th>11684</th>\n",
       "      <td>259356</td>\n",
       "      <td>34in Ultrawide Monitor</td>\n",
       "      <td>1</td>\n",
       "      <td>379.99</td>\n",
       "      <td>09/19/19 17:30</td>\n",
       "      <td>511 Forest St, San Francisco, CA 94016</td>\n",
       "      <td>09</td>\n",
       "    </tr>\n",
       "    <tr>\n",
       "      <th>11685</th>\n",
       "      <td>259357</td>\n",
       "      <td>USB-C Charging Cable</td>\n",
       "      <td>1</td>\n",
       "      <td>11.95</td>\n",
       "      <td>09/30/19 00:18</td>\n",
       "      <td>250 Meadow St, San Francisco, CA 94016</td>\n",
       "      <td>09</td>\n",
       "    </tr>\n",
       "  </tbody>\n",
       "</table>\n",
       "<p>185950 rows × 7 columns</p>\n",
       "</div>"
      ],
      "text/plain": [
       "      Order ID                     Product Quantity Ordered Price Each  \\\n",
       "0       176558        USB-C Charging Cable                2      11.95   \n",
       "2       176559  Bose SoundSport Headphones                1      99.99   \n",
       "3       176560                Google Phone                1        600   \n",
       "4       176560            Wired Headphones                1      11.99   \n",
       "5       176561            Wired Headphones                1      11.99   \n",
       "...        ...                         ...              ...        ...   \n",
       "11681   259353      AAA Batteries (4-pack)                3       2.99   \n",
       "11682   259354                      iPhone                1        700   \n",
       "11683   259355                      iPhone                1        700   \n",
       "11684   259356      34in Ultrawide Monitor                1     379.99   \n",
       "11685   259357        USB-C Charging Cable                1      11.95   \n",
       "\n",
       "           Order Date                         Purchase Address month  \n",
       "0      04/19/19 08:46             917 1st St, Dallas, TX 75001    04  \n",
       "2      04/07/19 22:30        682 Chestnut St, Boston, MA 02215    04  \n",
       "3      04/12/19 14:38     669 Spruce St, Los Angeles, CA 90001    04  \n",
       "4      04/12/19 14:38     669 Spruce St, Los Angeles, CA 90001    04  \n",
       "5      04/30/19 09:27        333 8th St, Los Angeles, CA 90001    04  \n",
       "...               ...                                      ...   ...  \n",
       "11681  09/17/19 20:56   840 Highland St, Los Angeles, CA 90001    09  \n",
       "11682  09/01/19 16:00  216 Dogwood St, San Francisco, CA 94016    09  \n",
       "11683  09/23/19 07:39     220 12th St, San Francisco, CA 94016    09  \n",
       "11684  09/19/19 17:30   511 Forest St, San Francisco, CA 94016    09  \n",
       "11685  09/30/19 00:18   250 Meadow St, San Francisco, CA 94016    09  \n",
       "\n",
       "[185950 rows x 7 columns]"
      ]
     },
     "execution_count": 52,
     "metadata": {},
     "output_type": "execute_result"
    }
   ],
   "source": [
    "all_files"
   ]
  },
  {
   "cell_type": "code",
   "execution_count": 53,
   "metadata": {
    "ExecuteTime": {
     "end_time": "2021-08-25T02:13:49.591944Z",
     "start_time": "2021-08-25T02:13:49.579977Z"
    }
   },
   "outputs": [],
   "source": [
    "#all_files['price all']=all_files['Quantity Ordered']*all_files['Price Each']\n",
    "#all_files"
   ]
  },
  {
   "cell_type": "code",
   "execution_count": 54,
   "metadata": {
    "ExecuteTime": {
     "end_time": "2021-08-25T02:13:50.760467Z",
     "start_time": "2021-08-25T02:13:50.681675Z"
    }
   },
   "outputs": [
    {
     "name": "stderr",
     "output_type": "stream",
     "text": [
      "<ipython-input-54-ce4b43ea9395>:1: SettingWithCopyWarning: \n",
      "A value is trying to be set on a copy of a slice from a DataFrame.\n",
      "Try using .loc[row_indexer,col_indexer] = value instead\n",
      "\n",
      "See the caveats in the documentation: https://pandas.pydata.org/pandas-docs/stable/user_guide/indexing.html#returning-a-view-versus-a-copy\n",
      "  all_files['price all']=all_files['Quantity Ordered'].astype(int)*all_files['Price Each'].astype(float)\n"
     ]
    }
   ],
   "source": [
    "all_files['price all']=all_files['Quantity Ordered'].astype(int)*all_files['Price Each'].astype(float)"
   ]
  },
  {
   "cell_type": "code",
   "execution_count": 55,
   "metadata": {
    "ExecuteTime": {
     "end_time": "2021-08-25T02:13:51.344943Z",
     "start_time": "2021-08-25T02:13:51.304055Z"
    }
   },
   "outputs": [
    {
     "data": {
      "text/html": [
       "<div>\n",
       "<style scoped>\n",
       "    .dataframe tbody tr th:only-of-type {\n",
       "        vertical-align: middle;\n",
       "    }\n",
       "\n",
       "    .dataframe tbody tr th {\n",
       "        vertical-align: top;\n",
       "    }\n",
       "\n",
       "    .dataframe thead th {\n",
       "        text-align: right;\n",
       "    }\n",
       "</style>\n",
       "<table border=\"1\" class=\"dataframe\">\n",
       "  <thead>\n",
       "    <tr style=\"text-align: right;\">\n",
       "      <th></th>\n",
       "      <th>Order ID</th>\n",
       "      <th>Product</th>\n",
       "      <th>Quantity Ordered</th>\n",
       "      <th>Price Each</th>\n",
       "      <th>Order Date</th>\n",
       "      <th>Purchase Address</th>\n",
       "      <th>month</th>\n",
       "      <th>price all</th>\n",
       "    </tr>\n",
       "  </thead>\n",
       "  <tbody>\n",
       "    <tr>\n",
       "      <th>0</th>\n",
       "      <td>176558</td>\n",
       "      <td>USB-C Charging Cable</td>\n",
       "      <td>2</td>\n",
       "      <td>11.95</td>\n",
       "      <td>04/19/19 08:46</td>\n",
       "      <td>917 1st St, Dallas, TX 75001</td>\n",
       "      <td>04</td>\n",
       "      <td>23.90</td>\n",
       "    </tr>\n",
       "    <tr>\n",
       "      <th>2</th>\n",
       "      <td>176559</td>\n",
       "      <td>Bose SoundSport Headphones</td>\n",
       "      <td>1</td>\n",
       "      <td>99.99</td>\n",
       "      <td>04/07/19 22:30</td>\n",
       "      <td>682 Chestnut St, Boston, MA 02215</td>\n",
       "      <td>04</td>\n",
       "      <td>99.99</td>\n",
       "    </tr>\n",
       "    <tr>\n",
       "      <th>3</th>\n",
       "      <td>176560</td>\n",
       "      <td>Google Phone</td>\n",
       "      <td>1</td>\n",
       "      <td>600</td>\n",
       "      <td>04/12/19 14:38</td>\n",
       "      <td>669 Spruce St, Los Angeles, CA 90001</td>\n",
       "      <td>04</td>\n",
       "      <td>600.00</td>\n",
       "    </tr>\n",
       "    <tr>\n",
       "      <th>4</th>\n",
       "      <td>176560</td>\n",
       "      <td>Wired Headphones</td>\n",
       "      <td>1</td>\n",
       "      <td>11.99</td>\n",
       "      <td>04/12/19 14:38</td>\n",
       "      <td>669 Spruce St, Los Angeles, CA 90001</td>\n",
       "      <td>04</td>\n",
       "      <td>11.99</td>\n",
       "    </tr>\n",
       "    <tr>\n",
       "      <th>5</th>\n",
       "      <td>176561</td>\n",
       "      <td>Wired Headphones</td>\n",
       "      <td>1</td>\n",
       "      <td>11.99</td>\n",
       "      <td>04/30/19 09:27</td>\n",
       "      <td>333 8th St, Los Angeles, CA 90001</td>\n",
       "      <td>04</td>\n",
       "      <td>11.99</td>\n",
       "    </tr>\n",
       "    <tr>\n",
       "      <th>...</th>\n",
       "      <td>...</td>\n",
       "      <td>...</td>\n",
       "      <td>...</td>\n",
       "      <td>...</td>\n",
       "      <td>...</td>\n",
       "      <td>...</td>\n",
       "      <td>...</td>\n",
       "      <td>...</td>\n",
       "    </tr>\n",
       "    <tr>\n",
       "      <th>11681</th>\n",
       "      <td>259353</td>\n",
       "      <td>AAA Batteries (4-pack)</td>\n",
       "      <td>3</td>\n",
       "      <td>2.99</td>\n",
       "      <td>09/17/19 20:56</td>\n",
       "      <td>840 Highland St, Los Angeles, CA 90001</td>\n",
       "      <td>09</td>\n",
       "      <td>8.97</td>\n",
       "    </tr>\n",
       "    <tr>\n",
       "      <th>11682</th>\n",
       "      <td>259354</td>\n",
       "      <td>iPhone</td>\n",
       "      <td>1</td>\n",
       "      <td>700</td>\n",
       "      <td>09/01/19 16:00</td>\n",
       "      <td>216 Dogwood St, San Francisco, CA 94016</td>\n",
       "      <td>09</td>\n",
       "      <td>700.00</td>\n",
       "    </tr>\n",
       "    <tr>\n",
       "      <th>11683</th>\n",
       "      <td>259355</td>\n",
       "      <td>iPhone</td>\n",
       "      <td>1</td>\n",
       "      <td>700</td>\n",
       "      <td>09/23/19 07:39</td>\n",
       "      <td>220 12th St, San Francisco, CA 94016</td>\n",
       "      <td>09</td>\n",
       "      <td>700.00</td>\n",
       "    </tr>\n",
       "    <tr>\n",
       "      <th>11684</th>\n",
       "      <td>259356</td>\n",
       "      <td>34in Ultrawide Monitor</td>\n",
       "      <td>1</td>\n",
       "      <td>379.99</td>\n",
       "      <td>09/19/19 17:30</td>\n",
       "      <td>511 Forest St, San Francisco, CA 94016</td>\n",
       "      <td>09</td>\n",
       "      <td>379.99</td>\n",
       "    </tr>\n",
       "    <tr>\n",
       "      <th>11685</th>\n",
       "      <td>259357</td>\n",
       "      <td>USB-C Charging Cable</td>\n",
       "      <td>1</td>\n",
       "      <td>11.95</td>\n",
       "      <td>09/30/19 00:18</td>\n",
       "      <td>250 Meadow St, San Francisco, CA 94016</td>\n",
       "      <td>09</td>\n",
       "      <td>11.95</td>\n",
       "    </tr>\n",
       "  </tbody>\n",
       "</table>\n",
       "<p>185950 rows × 8 columns</p>\n",
       "</div>"
      ],
      "text/plain": [
       "      Order ID                     Product Quantity Ordered Price Each  \\\n",
       "0       176558        USB-C Charging Cable                2      11.95   \n",
       "2       176559  Bose SoundSport Headphones                1      99.99   \n",
       "3       176560                Google Phone                1        600   \n",
       "4       176560            Wired Headphones                1      11.99   \n",
       "5       176561            Wired Headphones                1      11.99   \n",
       "...        ...                         ...              ...        ...   \n",
       "11681   259353      AAA Batteries (4-pack)                3       2.99   \n",
       "11682   259354                      iPhone                1        700   \n",
       "11683   259355                      iPhone                1        700   \n",
       "11684   259356      34in Ultrawide Monitor                1     379.99   \n",
       "11685   259357        USB-C Charging Cable                1      11.95   \n",
       "\n",
       "           Order Date                         Purchase Address month  \\\n",
       "0      04/19/19 08:46             917 1st St, Dallas, TX 75001    04   \n",
       "2      04/07/19 22:30        682 Chestnut St, Boston, MA 02215    04   \n",
       "3      04/12/19 14:38     669 Spruce St, Los Angeles, CA 90001    04   \n",
       "4      04/12/19 14:38     669 Spruce St, Los Angeles, CA 90001    04   \n",
       "5      04/30/19 09:27        333 8th St, Los Angeles, CA 90001    04   \n",
       "...               ...                                      ...   ...   \n",
       "11681  09/17/19 20:56   840 Highland St, Los Angeles, CA 90001    09   \n",
       "11682  09/01/19 16:00  216 Dogwood St, San Francisco, CA 94016    09   \n",
       "11683  09/23/19 07:39     220 12th St, San Francisco, CA 94016    09   \n",
       "11684  09/19/19 17:30   511 Forest St, San Francisco, CA 94016    09   \n",
       "11685  09/30/19 00:18   250 Meadow St, San Francisco, CA 94016    09   \n",
       "\n",
       "       price all  \n",
       "0          23.90  \n",
       "2          99.99  \n",
       "3         600.00  \n",
       "4          11.99  \n",
       "5          11.99  \n",
       "...          ...  \n",
       "11681       8.97  \n",
       "11682     700.00  \n",
       "11683     700.00  \n",
       "11684     379.99  \n",
       "11685      11.95  \n",
       "\n",
       "[185950 rows x 8 columns]"
      ]
     },
     "execution_count": 55,
     "metadata": {},
     "output_type": "execute_result"
    }
   ],
   "source": [
    "all_files"
   ]
  },
  {
   "cell_type": "code",
   "execution_count": 56,
   "metadata": {
    "ExecuteTime": {
     "end_time": "2021-08-25T02:13:52.104321Z",
     "start_time": "2021-08-25T02:13:52.054459Z"
    }
   },
   "outputs": [
    {
     "data": {
      "text/html": [
       "<div>\n",
       "<style scoped>\n",
       "    .dataframe tbody tr th:only-of-type {\n",
       "        vertical-align: middle;\n",
       "    }\n",
       "\n",
       "    .dataframe tbody tr th {\n",
       "        vertical-align: top;\n",
       "    }\n",
       "\n",
       "    .dataframe thead th {\n",
       "        text-align: right;\n",
       "    }\n",
       "</style>\n",
       "<table border=\"1\" class=\"dataframe\">\n",
       "  <thead>\n",
       "    <tr style=\"text-align: right;\">\n",
       "      <th></th>\n",
       "      <th>price all</th>\n",
       "    </tr>\n",
       "    <tr>\n",
       "      <th>month</th>\n",
       "      <th></th>\n",
       "    </tr>\n",
       "  </thead>\n",
       "  <tbody>\n",
       "    <tr>\n",
       "      <th>01</th>\n",
       "      <td>1.822257e+06</td>\n",
       "    </tr>\n",
       "    <tr>\n",
       "      <th>02</th>\n",
       "      <td>2.202022e+06</td>\n",
       "    </tr>\n",
       "    <tr>\n",
       "      <th>03</th>\n",
       "      <td>2.807100e+06</td>\n",
       "    </tr>\n",
       "    <tr>\n",
       "      <th>04</th>\n",
       "      <td>3.390670e+06</td>\n",
       "    </tr>\n",
       "    <tr>\n",
       "      <th>05</th>\n",
       "      <td>3.152607e+06</td>\n",
       "    </tr>\n",
       "    <tr>\n",
       "      <th>06</th>\n",
       "      <td>2.577802e+06</td>\n",
       "    </tr>\n",
       "    <tr>\n",
       "      <th>07</th>\n",
       "      <td>2.647776e+06</td>\n",
       "    </tr>\n",
       "    <tr>\n",
       "      <th>08</th>\n",
       "      <td>2.244468e+06</td>\n",
       "    </tr>\n",
       "    <tr>\n",
       "      <th>09</th>\n",
       "      <td>2.097560e+06</td>\n",
       "    </tr>\n",
       "    <tr>\n",
       "      <th>10</th>\n",
       "      <td>3.736727e+06</td>\n",
       "    </tr>\n",
       "    <tr>\n",
       "      <th>11</th>\n",
       "      <td>3.199603e+06</td>\n",
       "    </tr>\n",
       "    <tr>\n",
       "      <th>12</th>\n",
       "      <td>4.613443e+06</td>\n",
       "    </tr>\n",
       "  </tbody>\n",
       "</table>\n",
       "</div>"
      ],
      "text/plain": [
       "          price all\n",
       "month              \n",
       "01     1.822257e+06\n",
       "02     2.202022e+06\n",
       "03     2.807100e+06\n",
       "04     3.390670e+06\n",
       "05     3.152607e+06\n",
       "06     2.577802e+06\n",
       "07     2.647776e+06\n",
       "08     2.244468e+06\n",
       "09     2.097560e+06\n",
       "10     3.736727e+06\n",
       "11     3.199603e+06\n",
       "12     4.613443e+06"
      ]
     },
     "execution_count": 56,
     "metadata": {},
     "output_type": "execute_result"
    }
   ],
   "source": [
    "month=all_files.groupby('month').sum()\n",
    "month"
   ]
  },
  {
   "cell_type": "code",
   "execution_count": 57,
   "metadata": {
    "ExecuteTime": {
     "end_time": "2021-08-25T02:13:52.863393Z",
     "start_time": "2021-08-25T02:13:52.853417Z"
    }
   },
   "outputs": [],
   "source": [
    "months=range(1,13)"
   ]
  },
  {
   "cell_type": "code",
   "execution_count": 58,
   "metadata": {
    "ExecuteTime": {
     "end_time": "2021-08-25T02:13:53.772213Z",
     "start_time": "2021-08-25T02:13:53.601669Z"
    }
   },
   "outputs": [
    {
     "data": {
      "image/png": "[encoded data removed]",
      "text/plain": [
       "<Figure size 432x288 with 1 Axes>"
      ]
     },
     "metadata": {
      "needs_background": "light"
     },
     "output_type": "display_data"
    }
   ],
   "source": [
    "plt.bar(months,month['price all'])\n",
    "plt.show()"
   ]
  },
  {
   "cell_type": "code",
   "execution_count": 59,
   "metadata": {
    "ExecuteTime": {
     "end_time": "2021-08-25T02:13:54.421781Z",
     "start_time": "2021-08-25T02:13:54.404826Z"
    }
   },
   "outputs": [
    {
     "data": {
      "text/plain": [
       "4613443.340001534"
      ]
     },
     "execution_count": 59,
     "metadata": {},
     "output_type": "execute_result"
    }
   ],
   "source": [
    "max(month['price all'])"
   ]
  },
  {
   "cell_type": "markdown",
   "metadata": {},
   "source": [
    "Question 2: What city sold the most product?"
   ]
  },
  {
   "cell_type": "code",
   "execution_count": 60,
   "metadata": {
    "ExecuteTime": {
     "end_time": "2021-08-25T02:13:55.880406Z",
     "start_time": "2021-08-25T02:13:55.777673Z"
    }
   },
   "outputs": [
    {
     "name": "stderr",
     "output_type": "stream",
     "text": [
      "<ipython-input-60-48eb2e7a0156>:1: SettingWithCopyWarning: \n",
      "A value is trying to be set on a copy of a slice from a DataFrame.\n",
      "Try using .loc[row_indexer,col_indexer] = value instead\n",
      "\n",
      "See the caveats in the documentation: https://pandas.pydata.org/pandas-docs/stable/user_guide/indexing.html#returning-a-view-versus-a-copy\n",
      "  all_files['city']=all_files['Purchase Address'].apply(lambda x: x.split(',')[1])\n"
     ]
    }
   ],
   "source": [
    "all_files['city']=all_files['Purchase Address'].apply(lambda x: x.split(',')[1])"
   ]
  },
  {
   "cell_type": "code",
   "execution_count": 61,
   "metadata": {
    "ExecuteTime": {
     "end_time": "2021-08-25T02:13:57.877244Z",
     "start_time": "2021-08-25T02:13:57.843368Z"
    }
   },
   "outputs": [
    {
     "data": {
      "text/html": [
       "<div>\n",
       "<style scoped>\n",
       "    .dataframe tbody tr th:only-of-type {\n",
       "        vertical-align: middle;\n",
       "    }\n",
       "\n",
       "    .dataframe tbody tr th {\n",
       "        vertical-align: top;\n",
       "    }\n",
       "\n",
       "    .dataframe thead th {\n",
       "        text-align: right;\n",
       "    }\n",
       "</style>\n",
       "<table border=\"1\" class=\"dataframe\">\n",
       "  <thead>\n",
       "    <tr style=\"text-align: right;\">\n",
       "      <th></th>\n",
       "      <th>Order ID</th>\n",
       "      <th>Product</th>\n",
       "      <th>Quantity Ordered</th>\n",
       "      <th>Price Each</th>\n",
       "      <th>Order Date</th>\n",
       "      <th>Purchase Address</th>\n",
       "      <th>month</th>\n",
       "      <th>price all</th>\n",
       "      <th>city</th>\n",
       "    </tr>\n",
       "  </thead>\n",
       "  <tbody>\n",
       "    <tr>\n",
       "      <th>0</th>\n",
       "      <td>176558</td>\n",
       "      <td>USB-C Charging Cable</td>\n",
       "      <td>2</td>\n",
       "      <td>11.95</td>\n",
       "      <td>04/19/19 08:46</td>\n",
       "      <td>917 1st St, Dallas, TX 75001</td>\n",
       "      <td>04</td>\n",
       "      <td>23.90</td>\n",
       "      <td>Dallas</td>\n",
       "    </tr>\n",
       "    <tr>\n",
       "      <th>2</th>\n",
       "      <td>176559</td>\n",
       "      <td>Bose SoundSport Headphones</td>\n",
       "      <td>1</td>\n",
       "      <td>99.99</td>\n",
       "      <td>04/07/19 22:30</td>\n",
       "      <td>682 Chestnut St, Boston, MA 02215</td>\n",
       "      <td>04</td>\n",
       "      <td>99.99</td>\n",
       "      <td>Boston</td>\n",
       "    </tr>\n",
       "    <tr>\n",
       "      <th>3</th>\n",
       "      <td>176560</td>\n",
       "      <td>Google Phone</td>\n",
       "      <td>1</td>\n",
       "      <td>600</td>\n",
       "      <td>04/12/19 14:38</td>\n",
       "      <td>669 Spruce St, Los Angeles, CA 90001</td>\n",
       "      <td>04</td>\n",
       "      <td>600.00</td>\n",
       "      <td>Los Angeles</td>\n",
       "    </tr>\n",
       "    <tr>\n",
       "      <th>4</th>\n",
       "      <td>176560</td>\n",
       "      <td>Wired Headphones</td>\n",
       "      <td>1</td>\n",
       "      <td>11.99</td>\n",
       "      <td>04/12/19 14:38</td>\n",
       "      <td>669 Spruce St, Los Angeles, CA 90001</td>\n",
       "      <td>04</td>\n",
       "      <td>11.99</td>\n",
       "      <td>Los Angeles</td>\n",
       "    </tr>\n",
       "    <tr>\n",
       "      <th>5</th>\n",
       "      <td>176561</td>\n",
       "      <td>Wired Headphones</td>\n",
       "      <td>1</td>\n",
       "      <td>11.99</td>\n",
       "      <td>04/30/19 09:27</td>\n",
       "      <td>333 8th St, Los Angeles, CA 90001</td>\n",
       "      <td>04</td>\n",
       "      <td>11.99</td>\n",
       "      <td>Los Angeles</td>\n",
       "    </tr>\n",
       "    <tr>\n",
       "      <th>...</th>\n",
       "      <td>...</td>\n",
       "      <td>...</td>\n",
       "      <td>...</td>\n",
       "      <td>...</td>\n",
       "      <td>...</td>\n",
       "      <td>...</td>\n",
       "      <td>...</td>\n",
       "      <td>...</td>\n",
       "      <td>...</td>\n",
       "    </tr>\n",
       "    <tr>\n",
       "      <th>11681</th>\n",
       "      <td>259353</td>\n",
       "      <td>AAA Batteries (4-pack)</td>\n",
       "      <td>3</td>\n",
       "      <td>2.99</td>\n",
       "      <td>09/17/19 20:56</td>\n",
       "      <td>840 Highland St, Los Angeles, CA 90001</td>\n",
       "      <td>09</td>\n",
       "      <td>8.97</td>\n",
       "      <td>Los Angeles</td>\n",
       "    </tr>\n",
       "    <tr>\n",
       "      <th>11682</th>\n",
       "      <td>259354</td>\n",
       "      <td>iPhone</td>\n",
       "      <td>1</td>\n",
       "      <td>700</td>\n",
       "      <td>09/01/19 16:00</td>\n",
       "      <td>216 Dogwood St, San Francisco, CA 94016</td>\n",
       "      <td>09</td>\n",
       "      <td>700.00</td>\n",
       "      <td>San Francisco</td>\n",
       "    </tr>\n",
       "    <tr>\n",
       "      <th>11683</th>\n",
       "      <td>259355</td>\n",
       "      <td>iPhone</td>\n",
       "      <td>1</td>\n",
       "      <td>700</td>\n",
       "      <td>09/23/19 07:39</td>\n",
       "      <td>220 12th St, San Francisco, CA 94016</td>\n",
       "      <td>09</td>\n",
       "      <td>700.00</td>\n",
       "      <td>San Francisco</td>\n",
       "    </tr>\n",
       "    <tr>\n",
       "      <th>11684</th>\n",
       "      <td>259356</td>\n",
       "      <td>34in Ultrawide Monitor</td>\n",
       "      <td>1</td>\n",
       "      <td>379.99</td>\n",
       "      <td>09/19/19 17:30</td>\n",
       "      <td>511 Forest St, San Francisco, CA 94016</td>\n",
       "      <td>09</td>\n",
       "      <td>379.99</td>\n",
       "      <td>San Francisco</td>\n",
       "    </tr>\n",
       "    <tr>\n",
       "      <th>11685</th>\n",
       "      <td>259357</td>\n",
       "      <td>USB-C Charging Cable</td>\n",
       "      <td>1</td>\n",
       "      <td>11.95</td>\n",
       "      <td>09/30/19 00:18</td>\n",
       "      <td>250 Meadow St, San Francisco, CA 94016</td>\n",
       "      <td>09</td>\n",
       "      <td>11.95</td>\n",
       "      <td>San Francisco</td>\n",
       "    </tr>\n",
       "  </tbody>\n",
       "</table>\n",
       "<p>185950 rows × 9 columns</p>\n",
       "</div>"
      ],
      "text/plain": [
       "      Order ID                     Product Quantity Ordered Price Each  \\\n",
       "0       176558        USB-C Charging Cable                2      11.95   \n",
       "2       176559  Bose SoundSport Headphones                1      99.99   \n",
       "3       176560                Google Phone                1        600   \n",
       "4       176560            Wired Headphones                1      11.99   \n",
       "5       176561            Wired Headphones                1      11.99   \n",
       "...        ...                         ...              ...        ...   \n",
       "11681   259353      AAA Batteries (4-pack)                3       2.99   \n",
       "11682   259354                      iPhone                1        700   \n",
       "11683   259355                      iPhone                1        700   \n",
       "11684   259356      34in Ultrawide Monitor                1     379.99   \n",
       "11685   259357        USB-C Charging Cable                1      11.95   \n",
       "\n",
       "           Order Date                         Purchase Address month  \\\n",
       "0      04/19/19 08:46             917 1st St, Dallas, TX 75001    04   \n",
       "2      04/07/19 22:30        682 Chestnut St, Boston, MA 02215    04   \n",
       "3      04/12/19 14:38     669 Spruce St, Los Angeles, CA 90001    04   \n",
       "4      04/12/19 14:38     669 Spruce St, Los Angeles, CA 90001    04   \n",
       "5      04/30/19 09:27        333 8th St, Los Angeles, CA 90001    04   \n",
       "...               ...                                      ...   ...   \n",
       "11681  09/17/19 20:56   840 Highland St, Los Angeles, CA 90001    09   \n",
       "11682  09/01/19 16:00  216 Dogwood St, San Francisco, CA 94016    09   \n",
       "11683  09/23/19 07:39     220 12th St, San Francisco, CA 94016    09   \n",
       "11684  09/19/19 17:30   511 Forest St, San Francisco, CA 94016    09   \n",
       "11685  09/30/19 00:18   250 Meadow St, San Francisco, CA 94016    09   \n",
       "\n",
       "       price all            city  \n",
       "0          23.90          Dallas  \n",
       "2          99.99          Boston  \n",
       "3         600.00     Los Angeles  \n",
       "4          11.99     Los Angeles  \n",
       "5          11.99     Los Angeles  \n",
       "...          ...             ...  \n",
       "11681       8.97     Los Angeles  \n",
       "11682     700.00   San Francisco  \n",
       "11683     700.00   San Francisco  \n",
       "11684     379.99   San Francisco  \n",
       "11685      11.95   San Francisco  \n",
       "\n",
       "[185950 rows x 9 columns]"
      ]
     },
     "execution_count": 61,
     "metadata": {},
     "output_type": "execute_result"
    }
   ],
   "source": [
    "all_files"
   ]
  },
  {
   "cell_type": "code",
   "execution_count": 62,
   "metadata": {
    "ExecuteTime": {
     "end_time": "2021-08-25T02:14:07.069033Z",
     "start_time": "2021-08-25T02:14:06.976268Z"
    }
   },
   "outputs": [
    {
     "data": {
      "text/html": [
       "<div>\n",
       "<style scoped>\n",
       "    .dataframe tbody tr th:only-of-type {\n",
       "        vertical-align: middle;\n",
       "    }\n",
       "\n",
       "    .dataframe tbody tr th {\n",
       "        vertical-align: top;\n",
       "    }\n",
       "\n",
       "    .dataframe thead th {\n",
       "        text-align: right;\n",
       "    }\n",
       "</style>\n",
       "<table border=\"1\" class=\"dataframe\">\n",
       "  <thead>\n",
       "    <tr style=\"text-align: right;\">\n",
       "      <th></th>\n",
       "      <th>price all</th>\n",
       "    </tr>\n",
       "    <tr>\n",
       "      <th>city</th>\n",
       "      <th></th>\n",
       "    </tr>\n",
       "  </thead>\n",
       "  <tbody>\n",
       "    <tr>\n",
       "      <th>Atlanta</th>\n",
       "      <td>2.795499e+06</td>\n",
       "    </tr>\n",
       "    <tr>\n",
       "      <th>Austin</th>\n",
       "      <td>1.819582e+06</td>\n",
       "    </tr>\n",
       "    <tr>\n",
       "      <th>Boston</th>\n",
       "      <td>3.661642e+06</td>\n",
       "    </tr>\n",
       "    <tr>\n",
       "      <th>Dallas</th>\n",
       "      <td>2.767975e+06</td>\n",
       "    </tr>\n",
       "    <tr>\n",
       "      <th>Los Angeles</th>\n",
       "      <td>5.452571e+06</td>\n",
       "    </tr>\n",
       "    <tr>\n",
       "      <th>New York City</th>\n",
       "      <td>4.664317e+06</td>\n",
       "    </tr>\n",
       "    <tr>\n",
       "      <th>Portland</th>\n",
       "      <td>2.320491e+06</td>\n",
       "    </tr>\n",
       "    <tr>\n",
       "      <th>San Francisco</th>\n",
       "      <td>8.262204e+06</td>\n",
       "    </tr>\n",
       "    <tr>\n",
       "      <th>Seattle</th>\n",
       "      <td>2.747755e+06</td>\n",
       "    </tr>\n",
       "  </tbody>\n",
       "</table>\n",
       "</div>"
      ],
      "text/plain": [
       "                   price all\n",
       "city                        \n",
       " Atlanta        2.795499e+06\n",
       " Austin         1.819582e+06\n",
       " Boston         3.661642e+06\n",
       " Dallas         2.767975e+06\n",
       " Los Angeles    5.452571e+06\n",
       " New York City  4.664317e+06\n",
       " Portland       2.320491e+06\n",
       " San Francisco  8.262204e+06\n",
       " Seattle        2.747755e+06"
      ]
     },
     "execution_count": 62,
     "metadata": {},
     "output_type": "execute_result"
    }
   ],
   "source": [
    "all_files.groupby('city').sum()"
   ]
  },
  {
   "cell_type": "markdown",
   "metadata": {},
   "source": [
    "Question 3: What time should we display advertisements to maximize likelihood of customer's buying product?"
   ]
  },
  {
   "cell_type": "code",
   "execution_count": 74,
   "metadata": {
    "ExecuteTime": {
     "end_time": "2021-08-25T02:30:42.913019Z",
     "start_time": "2021-08-25T02:30:01.182091Z"
    }
   },
   "outputs": [
    {
     "name": "stderr",
     "output_type": "stream",
     "text": [
      "<ipython-input-74-3efce352c581>:1: SettingWithCopyWarning: \n",
      "A value is trying to be set on a copy of a slice from a DataFrame.\n",
      "Try using .loc[row_indexer,col_indexer] = value instead\n",
      "\n",
      "See the caveats in the documentation: https://pandas.pydata.org/pandas-docs/stable/user_guide/indexing.html#returning-a-view-versus-a-copy\n",
      "  all_files['Hour'] = pd.to_datetime(all_files['Order Date']).dt.hour\n",
      "<ipython-input-74-3efce352c581>:2: SettingWithCopyWarning: \n",
      "A value is trying to be set on a copy of a slice from a DataFrame.\n",
      "Try using .loc[row_indexer,col_indexer] = value instead\n",
      "\n",
      "See the caveats in the documentation: https://pandas.pydata.org/pandas-docs/stable/user_guide/indexing.html#returning-a-view-versus-a-copy\n",
      "  all_files['Minute'] = pd.to_datetime(all_files['Order Date']).dt.minute\n",
      "<ipython-input-74-3efce352c581>:3: SettingWithCopyWarning: \n",
      "A value is trying to be set on a copy of a slice from a DataFrame.\n",
      "Try using .loc[row_indexer,col_indexer] = value instead\n",
      "\n",
      "See the caveats in the documentation: https://pandas.pydata.org/pandas-docs/stable/user_guide/indexing.html#returning-a-view-versus-a-copy\n",
      "  all_files['Count'] = 1\n"
     ]
    }
   ],
   "source": [
    "all_files['Hour'] = pd.to_datetime(all_files['Order Date']).dt.hour\n",
    "all_files['Minute'] = pd.to_datetime(all_files['Order Date']).dt.minute\n",
    "all_files['Count'] = 1"
   ]
  },
  {
   "cell_type": "code",
   "execution_count": 75,
   "metadata": {
    "ExecuteTime": {
     "end_time": "2021-08-25T02:30:43.956226Z",
     "start_time": "2021-08-25T02:30:43.485485Z"
    }
   },
   "outputs": [
    {
     "data": {
      "image/png": "[encoded data removed]",
      "text/plain": [
       "<Figure size 432x288 with 1 Axes>"
      ]
     },
     "metadata": {
      "needs_background": "light"
     },
     "output_type": "display_data"
    }
   ],
   "source": [
    "keys = [pair for pair, df in all_files.groupby(['Hour'])]\n",
    "\n",
    "plt.plot(keys, all_files.groupby(['Hour']).count()['Count'])\n",
    "plt.xticks(keys)\n",
    "plt.grid()\n",
    "plt.show()"
   ]
  },
  {
   "cell_type": "markdown",
   "metadata": {},
   "source": [
    "Question 4: What products are most often sold together?\n"
   ]
  },
  {
   "cell_type": "code",
   "execution_count": 65,
   "metadata": {
    "ExecuteTime": {
     "end_time": "2021-08-25T02:15:04.148889Z",
     "start_time": "2021-08-25T02:15:02.398565Z"
    }
   },
   "outputs": [
    {
     "name": "stderr",
     "output_type": "stream",
     "text": [
      "<ipython-input-65-47bb7d1c7928>:3: SettingWithCopyWarning: \n",
      "A value is trying to be set on a copy of a slice from a DataFrame.\n",
      "Try using .loc[row_indexer,col_indexer] = value instead\n",
      "\n",
      "See the caveats in the documentation: https://pandas.pydata.org/pandas-docs/stable/user_guide/indexing.html#returning-a-view-versus-a-copy\n",
      "  df['Grouped'] = df.groupby('Order ID')['Product'].transform(lambda x: ','.join(x))\n"
     ]
    }
   ],
   "source": [
    "df = all_files[all_files['Order ID'].duplicated(keep=False)]\n",
    "\n",
    "df['Grouped'] = df.groupby('Order ID')['Product'].transform(lambda x: ','.join(x))\n",
    "df2 = df[['Order ID', 'Grouped']].drop_duplicates()"
   ]
  },
  {
   "cell_type": "code",
   "execution_count": 66,
   "metadata": {
    "ExecuteTime": {
     "end_time": "2021-08-25T02:15:35.903715Z",
     "start_time": "2021-08-25T02:15:35.857840Z"
    }
   },
   "outputs": [
    {
     "name": "stdout",
     "output_type": "stream",
     "text": [
      "('iPhone', 'Lightning Charging Cable') 1005\n",
      "('Google Phone', 'USB-C Charging Cable') 987\n",
      "('iPhone', 'Wired Headphones') 447\n",
      "('Google Phone', 'Wired Headphones') 414\n",
      "('Vareebadd Phone', 'USB-C Charging Cable') 361\n",
      "('iPhone', 'Apple Airpods Headphones') 360\n",
      "('Google Phone', 'Bose SoundSport Headphones') 220\n",
      "('USB-C Charging Cable', 'Wired Headphones') 160\n",
      "('Vareebadd Phone', 'Wired Headphones') 143\n",
      "('Lightning Charging Cable', 'Wired Headphones') 92\n"
     ]
    }
   ],
   "source": [
    "from itertools import combinations\n",
    "from collections import Counter\n",
    "\n",
    "count = Counter()\n",
    "\n",
    "for row in df2['Grouped']:\n",
    "    row_list = row.split(',')\n",
    "    count.update(Counter(combinations(row_list, 2)))\n",
    "\n",
    "for key,value in count.most_common(10):\n",
    "    print(key, value)"
   ]
  },
  {
   "cell_type": "markdown",
   "metadata": {},
   "source": [
    "solution 2 \n",
    "only valid for products with same order ID"
   ]
  },
  {
   "cell_type": "code",
   "execution_count": 67,
   "metadata": {
    "ExecuteTime": {
     "end_time": "2021-08-25T02:15:36.509097Z",
     "start_time": "2021-08-25T02:15:36.476193Z"
    }
   },
   "outputs": [
    {
     "data": {
      "text/plain": [
       "'iPhone,Lightning Charging Cable'"
      ]
     },
     "execution_count": 67,
     "metadata": {},
     "output_type": "execute_result"
    }
   ],
   "source": [
    "di={}\n",
    "for i in df['Grouped']:\n",
    "    di[i]=0\n",
    "for i in df['Grouped']:\n",
    "    di[i]+=1\n",
    "\n",
    "key_list = list(di.keys())\n",
    "val_list = list(di.values())\n",
    "position = val_list.index(max(di.values()))\n",
    "key_list[position]"
   ]
  },
  {
   "cell_type": "code",
   "execution_count": 68,
   "metadata": {
    "ExecuteTime": {
     "end_time": "2021-08-25T02:15:59.604089Z",
     "start_time": "2021-08-25T02:15:59.583142Z"
    }
   },
   "outputs": [
    {
     "data": {
      "text/plain": [
       "{None: None}"
      ]
     },
     "execution_count": 68,
     "metadata": {},
     "output_type": "execute_result"
    }
   ],
   "source": [
    "ke=[]\n",
    "ve=[]\n",
    "{ke.append(k): ve.append(v) for k, v in sorted(di.items(), key=lambda item: item[1])}\n"
   ]
  },
  {
   "cell_type": "code",
   "execution_count": 72,
   "metadata": {
    "ExecuteTime": {
     "end_time": "2021-08-25T02:20:04.252589Z",
     "start_time": "2021-08-25T02:20:04.246258Z"
    }
   },
   "outputs": [
    {
     "name": "stdout",
     "output_type": "stream",
     "text": [
      "['27in 4K Gaming Monitor,Vareebadd Phone', '27in FHD Monitor,iPhone', 'Vareebadd Phone,Lightning Charging Cable', '20in Monitor,iPhone', 'LG Dryer,Vareebadd Phone', 'Macbook Pro Laptop,Flatscreen TV', 'ThinkPad Laptop,Vareebadd Phone', 'Google Phone,Flatscreen TV', 'LG Washing Machine,Google Phone', 'LG Washing Machine,Wired Headphones', 'LG Dryer,Flatscreen TV', '27in FHD Monitor,LG Washing Machine', 'LG Dryer,27in FHD Monitor', '20in Monitor,34in Ultrawide Monitor', '34in Ultrawide Monitor,20in Monitor', '34in Ultrawide Monitor,LG Washing Machine', 'iPhone,iPhone', 'Google Phone,27in 4K Gaming Monitor', 'LG Washing Machine,iPhone', 'LG Dryer,Wired Headphones', 'Vareebadd Phone,27in 4K Gaming Monitor', '27in FHD Monitor,Vareebadd Phone', 'LG Washing Machine,27in 4K Gaming Monitor', 'LG Washing Machine,Apple Airpods Headphones', '27in 4K Gaming Monitor,LG Dryer', '20in Monitor,LG Washing Machine', 'LG Dryer,Google Phone', 'Vareebadd Phone,27in FHD Monitor', 'iPhone,Google Phone', 'ThinkPad Laptop,27in 4K Gaming Monitor', '20in Monitor,Flatscreen TV', 'USB-C Charging Cable,LG Dryer', 'LG Washing Machine,20in Monitor', 'Flatscreen TV,20in Monitor', '27in FHD Monitor,Google Phone', 'Vareebadd Phone,iPhone', 'iPhone,27in FHD Monitor', 'LG Dryer,AAA Batteries (4-pack)', 'ThinkPad Laptop,34in Ultrawide Monitor', 'iPhone,LG Washing Machine', 'AAA Batteries (4-pack),LG Dryer', 'LG Dryer,27in 4K Gaming Monitor', 'LG Dryer,Lightning Charging Cable', 'ThinkPad Laptop,LG Dryer', 'LG Washing Machine,AA Batteries (4-pack)', 'iPhone,Lightning Charging Cable,Vareebadd Phone', 'Google Phone,USB-C Charging Cable,27in FHD Monitor', 'Google Phone,USB-C Charging Cable,Vareebadd Phone', 'Vareebadd Phone,USB-C Charging Cable,iPhone', 'iPhone,Lightning Charging Cable,iPhone', 'Google Phone,Wired Headphones,USB-C Charging Cable', 'Vareebadd Phone,Wired Headphones,iPhone', 'Vareebadd Phone,Wired Headphones,Apple Airpods Headphones', 'Vareebadd Phone,Wired Headphones,27in 4K Gaming Monitor', 'Google Phone,USB-C Charging Cable,Apple Airpods Headphones', 'Google Phone,Wired Headphones,Macbook Pro Laptop', 'iPhone,Lightning Charging Cable,34in Ultrawide Monitor', 'Google Phone,Bose SoundSport Headphones,27in FHD Monitor', 'iPhone,Lightning Charging Cable,27in 4K Gaming Monitor', 'iPhone,Apple Airpods Headphones,Bose SoundSport Headphones', 'iPhone,Lightning Charging Cable,Google Phone', 'Google Phone,USB-C Charging Cable,USB-C Charging Cable', 'iPhone,Wired Headphones,Lightning Charging Cable', 'Google Phone,Bose SoundSport Headphones,Apple Airpods Headphones', 'Google Phone,Wired Headphones,AA Batteries (4-pack)', 'Vareebadd Phone,USB-C Charging Cable,Apple Airpods Headphones', 'Google Phone,USB-C Charging Cable,Lightning Charging Cable', 'iPhone,Lightning Charging Cable,AAA Batteries (4-pack)', 'Google Phone,Bose SoundSport Headphones,Lightning Charging Cable', 'Vareebadd Phone,Bose SoundSport Headphones,Flatscreen TV', 'iPhone,Lightning Charging Cable,Flatscreen TV', '34in Ultrawide Monitor,Google Phone', 'Google Phone,USB-C Charging Cable,Wired Headphones,USB-C Charging Cable', 'Macbook Pro Laptop,20in Monitor', 'Lightning Charging Cable,LG Dryer', 'Flatscreen TV,27in 4K Gaming Monitor', 'ThinkPad Laptop,Macbook Pro Laptop', 'Vareebadd Phone,Flatscreen TV', 'Macbook Pro Laptop,LG Washing Machine', 'iPhone,Lightning Charging Cable,Wired Headphones,AA Batteries (4-pack)', '20in Monitor,27in FHD Monitor', 'Google Phone,USB-C Charging Cable,Bose SoundSport Headphones,34in Ultrawide Monitor', 'Google Phone,34in Ultrawide Monitor', 'ThinkPad Laptop,ThinkPad Laptop', 'Bose SoundSport Headphones,Vareebadd Phone', 'Vareebadd Phone,ThinkPad Laptop', '20in Monitor,ThinkPad Laptop', 'Google Phone,USB-C Charging Cable,Wired Headphones,Apple Airpods Headphones', 'Lightning Charging Cable,Vareebadd Phone', '27in FHD Monitor,LG Dryer', '27in 4K Gaming Monitor,20in Monitor', 'LG Washing Machine,Lightning Charging Cable', 'LG Washing Machine,Bose SoundSport Headphones', 'AA Batteries (4-pack),LG Dryer', 'Vareebadd Phone,AAA Batteries (4-pack)', 'iPhone,20in Monitor', 'Google Phone,USB-C Charging Cable,Wired Headphones,Wired Headphones', '20in Monitor,Google Phone', 'Google Phone,USB-C Charging Cable,Wired Headphones,27in FHD Monitor', 'Google Phone,Macbook Pro Laptop', 'Google Phone,USB-C Charging Cable,Wired Headphones,AA Batteries (4-pack)', 'Flatscreen TV,ThinkPad Laptop', 'iPhone,Lightning Charging Cable,Wired Headphones,USB-C Charging Cable', 'ThinkPad Laptop,27in FHD Monitor', '27in FHD Monitor,Flatscreen TV', 'Google Phone,20in Monitor', 'Google Phone,USB-C Charging Cable,Wired Headphones,iPhone', 'iPhone,Lightning Charging Cable,Apple Airpods Headphones,Wired Headphones,Google Phone', 'Macbook Pro Laptop,ThinkPad Laptop', 'ThinkPad Laptop,Google Phone', '34in Ultrawide Monitor,Macbook Pro Laptop', 'iPhone,Vareebadd Phone', 'Google Phone,ThinkPad Laptop', '20in Monitor,20in Monitor', 'ThinkPad Laptop,iPhone', '34in Ultrawide Monitor,Flatscreen TV', 'Macbook Pro Laptop,Macbook Pro Laptop', '34in Ultrawide Monitor,ThinkPad Laptop', 'Macbook Pro Laptop,iPhone', 'Wired Headphones,LG Washing Machine', 'Macbook Pro Laptop,27in FHD Monitor', 'Flatscreen TV,Bose SoundSport Headphones', 'AA Batteries (4-pack),Vareebadd Phone', '27in FHD Monitor,20in Monitor', '27in 4K Gaming Monitor,iPhone', 'Google Phone,Google Phone', 'Google Phone,USB-C Charging Cable,AA Batteries (4-pack)', 'Flatscreen TV,Google Phone', '27in 4K Gaming Monitor,Flatscreen TV', 'Apple Airpods Headphones,LG Dryer', '20in Monitor,AAA Batteries (4-pack)', 'iPhone,Lightning Charging Cable,USB-C Charging Cable', 'iPhone,Lightning Charging Cable,AA Batteries (4-pack)', 'iPhone,Macbook Pro Laptop', 'Macbook Pro Laptop,34in Ultrawide Monitor', 'Bose SoundSport Headphones,ThinkPad Laptop', '20in Monitor,Macbook Pro Laptop', 'iPhone,Bose SoundSport Headphones', 'Vareebadd Phone,Apple Airpods Headphones', 'Vareebadd Phone,34in Ultrawide Monitor', 'Google Phone,27in FHD Monitor', 'Flatscreen TV,Wired Headphones', 'Flatscreen TV,27in FHD Monitor', 'LG Dryer,AA Batteries (4-pack)', 'Flatscreen TV,Macbook Pro Laptop', '27in FHD Monitor,27in 4K Gaming Monitor', 'ThinkPad Laptop,Flatscreen TV', 'Flatscreen TV,iPhone', '27in 4K Gaming Monitor,ThinkPad Laptop', 'Vareebadd Phone,Google Phone', 'Macbook Pro Laptop,Google Phone', '27in 4K Gaming Monitor,27in FHD Monitor', 'Lightning Charging Cable,LG Washing Machine', '27in FHD Monitor,ThinkPad Laptop', 'ThinkPad Laptop,Wired Headphones', 'iPhone,ThinkPad Laptop', 'Google Phone,Apple Airpods Headphones', 'Bose SoundSport Headphones,Macbook Pro Laptop', 'AAA Batteries (4-pack),Vareebadd Phone', 'LG Washing Machine,AAA Batteries (4-pack)', 'Vareebadd Phone,USB-C Charging Cable,Bose SoundSport Headphones,Wired Headphones', 'iPhone,Apple Airpods Headphones,AAA Batteries (4-pack)', 'iPhone,Lightning Charging Cable,Lightning Charging Cable', 'Vareebadd Phone,Bose SoundSport Headphones,Wired Headphones', 'Google Phone,USB-C Charging Cable,AAA Batteries (4-pack)', 'iPhone,27in 4K Gaming Monitor', 'iPhone,34in Ultrawide Monitor', '27in 4K Gaming Monitor,27in 4K Gaming Monitor', 'iPhone,Flatscreen TV', 'Flatscreen TV,34in Ultrawide Monitor', '27in 4K Gaming Monitor,Google Phone', '27in FHD Monitor,34in Ultrawide Monitor', 'Flatscreen TV,Apple Airpods Headphones', 'Google Phone,iPhone', '34in Ultrawide Monitor,27in FHD Monitor', 'Flatscreen TV,Flatscreen TV', 'Apple Airpods Headphones,34in Ultrawide Monitor', 'USB-C Charging Cable,Vareebadd Phone', '27in 4K Gaming Monitor,34in Ultrawide Monitor', '27in 4K Gaming Monitor,Macbook Pro Laptop', 'Google Phone,USB-C Charging Cable,Bose SoundSport Headphones,Wired Headphones', 'Bose SoundSport Headphones,20in Monitor', 'iPhone,Lightning Charging Cable,Apple Airpods Headphones,Wired Headphones', 'Apple Airpods Headphones,20in Monitor', 'Apple Airpods Headphones,Vareebadd Phone', 'Wired Headphones,Vareebadd Phone', '34in Ultrawide Monitor,Bose SoundSport Headphones', '27in FHD Monitor,Macbook Pro Laptop', '20in Monitor,AA Batteries (4-pack)', '20in Monitor,Apple Airpods Headphones', 'Macbook Pro Laptop,Apple Airpods Headphones', 'Wired Headphones,Flatscreen TV', 'Wired Headphones,20in Monitor', 'Macbook Pro Laptop,Wired Headphones', 'Macbook Pro Laptop,AAA Batteries (4-pack)', '34in Ultrawide Monitor,iPhone', '34in Ultrawide Monitor,34in Ultrawide Monitor', 'Flatscreen TV,USB-C Charging Cable', 'Bose SoundSport Headphones,iPhone', 'ThinkPad Laptop,Apple Airpods Headphones', 'Macbook Pro Laptop,27in 4K Gaming Monitor', 'Wired Headphones,Google Phone', 'AA Batteries (4-pack),Macbook Pro Laptop', 'Flatscreen TV,AA Batteries (4-pack)', 'Apple Airpods Headphones,Flatscreen TV', 'ThinkPad Laptop,AA Batteries (4-pack)', 'Google Phone,AAA Batteries (4-pack)', 'AAA Batteries (4-pack),20in Monitor', '34in Ultrawide Monitor,Apple Airpods Headphones', 'Bose SoundSport Headphones,Google Phone', 'Apple Airpods Headphones,ThinkPad Laptop', '27in 4K Gaming Monitor,Bose SoundSport Headphones', '20in Monitor,Bose SoundSport Headphones', 'Macbook Pro Laptop,AA Batteries (4-pack)', 'ThinkPad Laptop,USB-C Charging Cable', 'ThinkPad Laptop,Bose SoundSport Headphones', 'Vareebadd Phone,AA Batteries (4-pack)', 'USB-C Charging Cable,Macbook Pro Laptop', 'Lightning Charging Cable,iPhone', '27in FHD Monitor,27in FHD Monitor', 'AA Batteries (4-pack),ThinkPad Laptop', 'Bose SoundSport Headphones,Flatscreen TV', 'Lightning Charging Cable,ThinkPad Laptop', 'Google Phone,AA Batteries (4-pack)', 'Flatscreen TV,Lightning Charging Cable', 'Wired Headphones,ThinkPad Laptop', 'USB-C Charging Cable,20in Monitor', '27in 4K Gaming Monitor,Apple Airpods Headphones', 'Bose SoundSport Headphones,34in Ultrawide Monitor', 'Google Phone,Lightning Charging Cable', 'USB-C Charging Cable,Flatscreen TV', '27in FHD Monitor,Wired Headphones', 'USB-C Charging Cable,34in Ultrawide Monitor', 'AA Batteries (4-pack),20in Monitor', 'AAA Batteries (4-pack),Flatscreen TV', 'Lightning Charging Cable,Macbook Pro Laptop', 'Bose SoundSport Headphones,27in 4K Gaming Monitor', 'AAA Batteries (4-pack),Google Phone', 'AAA Batteries (4-pack),Macbook Pro Laptop', 'USB-C Charging Cable,27in 4K Gaming Monitor', 'USB-C Charging Cable,ThinkPad Laptop', '34in Ultrawide Monitor,Wired Headphones', '20in Monitor,Lightning Charging Cable', 'AA Batteries (4-pack),27in FHD Monitor', 'ThinkPad Laptop,Lightning Charging Cable', 'Macbook Pro Laptop,Lightning Charging Cable', 'AA Batteries (4-pack),Google Phone', 'Wired Headphones,27in FHD Monitor', 'AAA Batteries (4-pack),ThinkPad Laptop', 'iPhone,AA Batteries (4-pack)', 'Lightning Charging Cable,Flatscreen TV', 'Macbook Pro Laptop,Bose SoundSport Headphones', '27in 4K Gaming Monitor,Wired Headphones', 'Flatscreen TV,AAA Batteries (4-pack)', 'Apple Airpods Headphones,27in 4K Gaming Monitor', 'USB-C Charging Cable,iPhone', 'Apple Airpods Headphones,27in FHD Monitor', 'iPhone,USB-C Charging Cable', '27in FHD Monitor,Bose SoundSport Headphones', '27in FHD Monitor,USB-C Charging Cable', 'Apple Airpods Headphones,Macbook Pro Laptop', '27in 4K Gaming Monitor,USB-C Charging Cable', 'Macbook Pro Laptop,USB-C Charging Cable', '20in Monitor,Wired Headphones', '27in FHD Monitor,Apple Airpods Headphones', 'USB-C Charging Cable,Google Phone', '27in 4K Gaming Monitor,AA Batteries (4-pack)', '34in Ultrawide Monitor,AAA Batteries (4-pack)', 'Wired Headphones,Macbook Pro Laptop', 'AA Batteries (4-pack),Flatscreen TV', 'Apple Airpods Headphones,Google Phone', 'iPhone,AAA Batteries (4-pack)', 'Wired Headphones,iPhone', 'Bose SoundSport Headphones,27in FHD Monitor', 'AA Batteries (4-pack),34in Ultrawide Monitor', 'AAA Batteries (4-pack),34in Ultrawide Monitor', 'Apple Airpods Headphones,iPhone', 'Lightning Charging Cable,Google Phone', 'AA Batteries (4-pack),27in 4K Gaming Monitor', 'AAA Batteries (4-pack),iPhone', 'Lightning Charging Cable,34in Ultrawide Monitor', '34in Ultrawide Monitor,USB-C Charging Cable', '27in FHD Monitor,AA Batteries (4-pack)', 'AAA Batteries (4-pack),27in 4K Gaming Monitor', '20in Monitor,USB-C Charging Cable', 'Lightning Charging Cable,20in Monitor', '27in 4K Gaming Monitor,AAA Batteries (4-pack)', 'ThinkPad Laptop,AAA Batteries (4-pack)', '27in 4K Gaming Monitor,Lightning Charging Cable', 'Lightning Charging Cable,27in 4K Gaming Monitor', 'Wired Headphones,34in Ultrawide Monitor', 'Wired Headphones,27in 4K Gaming Monitor', 'Bose SoundSport Headphones,Apple Airpods Headphones', 'AA Batteries (4-pack),iPhone', '27in FHD Monitor,Lightning Charging Cable', 'Lightning Charging Cable,27in FHD Monitor', '34in Ultrawide Monitor,Lightning Charging Cable', '34in Ultrawide Monitor,AA Batteries (4-pack)', 'AAA Batteries (4-pack),Bose SoundSport Headphones', '27in FHD Monitor,AAA Batteries (4-pack)', 'Vareebadd Phone,USB-C Charging Cable,Bose SoundSport Headphones', 'Wired Headphones,Bose SoundSport Headphones', 'AAA Batteries (4-pack),27in FHD Monitor', 'Bose SoundSport Headphones,Wired Headphones', 'Apple Airpods Headphones,Apple Airpods Headphones', 'Bose SoundSport Headphones,USB-C Charging Cable', 'USB-C Charging Cable,Bose SoundSport Headphones', 'Bose SoundSport Headphones,Bose SoundSport Headphones', 'Bose SoundSport Headphones,AA Batteries (4-pack)', 'AA Batteries (4-pack),Bose SoundSport Headphones', 'Wired Headphones,Apple Airpods Headphones', 'USB-C Charging Cable,27in FHD Monitor', 'Apple Airpods Headphones,USB-C Charging Cable', 'Apple Airpods Headphones,AA Batteries (4-pack)', 'Lightning Charging Cable,Wired Headphones', 'Apple Airpods Headphones,Bose SoundSport Headphones', 'USB-C Charging Cable,Apple Airpods Headphones', 'Google Phone,Bose SoundSport Headphones,Wired Headphones', 'Bose SoundSport Headphones,Lightning Charging Cable', 'AAA Batteries (4-pack),Apple Airpods Headphones', 'Wired Headphones,Wired Headphones', 'Lightning Charging Cable,Apple Airpods Headphones', 'iPhone,Apple Airpods Headphones,Wired Headphones', 'Apple Airpods Headphones,Lightning Charging Cable', 'Lightning Charging Cable,AAA Batteries (4-pack)', 'USB-C Charging Cable,AA Batteries (4-pack)', 'AA Batteries (4-pack),AA Batteries (4-pack)', 'Wired Headphones,AA Batteries (4-pack)', 'Wired Headphones,Lightning Charging Cable', 'Bose SoundSport Headphones,AAA Batteries (4-pack)', 'AA Batteries (4-pack),USB-C Charging Cable', 'AAA Batteries (4-pack),AA Batteries (4-pack)', 'Lightning Charging Cable,Bose SoundSport Headphones', 'USB-C Charging Cable,Wired Headphones', 'USB-C Charging Cable,Lightning Charging Cable', 'AA Batteries (4-pack),Apple Airpods Headphones', 'USB-C Charging Cable,AAA Batteries (4-pack)', 'Wired Headphones,USB-C Charging Cable', 'Apple Airpods Headphones,Wired Headphones', 'AAA Batteries (4-pack),Wired Headphones', 'Wired Headphones,AAA Batteries (4-pack)', 'AA Batteries (4-pack),Wired Headphones', 'AAA Batteries (4-pack),Lightning Charging Cable', 'Apple Airpods Headphones,AAA Batteries (4-pack)', 'USB-C Charging Cable,USB-C Charging Cable', 'Google Phone,USB-C Charging Cable,Bose SoundSport Headphones', 'Vareebadd Phone,USB-C Charging Cable,Wired Headphones', 'AA Batteries (4-pack),AAA Batteries (4-pack)', 'AAA Batteries (4-pack),AAA Batteries (4-pack)', 'AAA Batteries (4-pack),USB-C Charging Cable', 'Lightning Charging Cable,Lightning Charging Cable', 'AA Batteries (4-pack),Lightning Charging Cable', 'Lightning Charging Cable,AA Batteries (4-pack)', 'Lightning Charging Cable,USB-C Charging Cable', 'Vareebadd Phone,Bose SoundSport Headphones', 'iPhone,Lightning Charging Cable,Apple Airpods Headphones', 'iPhone,Lightning Charging Cable,Wired Headphones', 'Vareebadd Phone,Wired Headphones', 'Google Phone,USB-C Charging Cable,Wired Headphones', 'Google Phone,Bose SoundSport Headphones', 'iPhone,Apple Airpods Headphones', 'Google Phone,Wired Headphones', 'Vareebadd Phone,USB-C Charging Cable', 'iPhone,Wired Headphones', 'Google Phone,USB-C Charging Cable', 'iPhone,Lightning Charging Cable'] [2, 2, 2, 2, 2, 2, 2, 2, 2, 2, 2, 2, 2, 2, 2, 2, 2, 2, 2, 2, 2, 2, 2, 2, 2, 2, 2, 2, 2, 2, 2, 2, 2, 2, 2, 2, 2, 2, 2, 2, 2, 2, 2, 2, 2, 3, 3, 3, 3, 3, 3, 3, 3, 3, 3, 3, 3, 3, 3, 3, 3, 3, 3, 3, 3, 3, 3, 3, 3, 3, 3, 4, 4, 4, 4, 4, 4, 4, 4, 4, 4, 4, 4, 4, 4, 4, 4, 4, 4, 4, 4, 4, 4, 4, 4, 4, 4, 4, 4, 4, 4, 4, 4, 4, 4, 4, 4, 5, 6, 6, 6, 6, 6, 6, 6, 6, 6, 6, 6, 6, 6, 6, 6, 6, 6, 6, 6, 6, 6, 6, 6, 6, 6, 6, 8, 8, 8, 8, 8, 8, 8, 8, 8, 8, 8, 8, 8, 8, 8, 8, 8, 8, 8, 8, 8, 8, 8, 8, 8, 8, 8, 9, 9, 9, 9, 10, 10, 10, 10, 10, 10, 10, 10, 10, 10, 12, 12, 12, 12, 12, 12, 12, 12, 12, 12, 12, 12, 12, 12, 14, 14, 14, 14, 14, 14, 14, 14, 14, 14, 14, 14, 16, 16, 16, 16, 16, 16, 16, 16, 16, 18, 18, 18, 18, 18, 18, 18, 18, 18, 18, 18, 18, 18, 20, 20, 20, 20, 20, 20, 20, 20, 20, 20, 20, 20, 20, 20, 22, 22, 22, 22, 22, 22, 22, 22, 22, 22, 22, 22, 22, 22, 22, 22, 22, 24, 24, 24, 24, 24, 24, 24, 24, 24, 24, 24, 24, 24, 24, 24, 26, 26, 26, 26, 26, 26, 26, 26, 28, 28, 28, 28, 30, 30, 30, 30, 30, 30, 32, 32, 34, 34, 34, 34, 36, 36, 36, 36, 38, 40, 42, 42, 42, 44, 48, 48, 50, 52, 54, 54, 56, 58, 58, 58, 58, 60, 62, 62, 63, 64, 66, 68, 68, 69, 70, 70, 70, 70, 72, 72, 74, 74, 78, 78, 80, 82, 82, 84, 84, 84, 86, 86, 88, 88, 90, 92, 93, 93, 96, 96, 100, 102, 102, 104, 110, 120, 129, 168, 208, 231, 322, 572, 606, 624, 722, 1712, 1764]\n"
     ]
    }
   ],
   "source": [
    "print(ke,ve)"
   ]
  }
 ],
 "metadata": {
  "kernelspec": {
   "display_name": "Python 3",
   "language": "python",
   "name": "python3"
  },
  "language_info": {
   "codemirror_mode": {
    "name": "ipython",
    "version": 3
   },
   "file_extension": ".py",
   "mimetype": "text/x-python",
   "name": "python",
   "nbconvert_exporter": "python",
   "pygments_lexer": "ipython3",
   "version": "3.8.5"
  }
 },
 "nbformat": 4,
 "nbformat_minor": 4
}
